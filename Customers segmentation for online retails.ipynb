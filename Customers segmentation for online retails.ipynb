{
 "cells": [
  {
   "cell_type": "markdown",
   "id": "b9bf5318",
   "metadata": {},
   "source": [
    "### Problem Statement:\n",
    "- **To analyze customer data from an online retail plateform to segment customers based on their purchasing behaviour, preferences and demographics. The goal is to gain insight into distint customer segments and tailor marketing stratiegies to target each segment effectivelly.**"
   ]
  },
  {
   "cell_type": "code",
   "execution_count": 1,
   "id": "25c304ba",
   "metadata": {},
   "outputs": [],
   "source": [
    "## Importing all the essential libraries\n",
    "\n",
    "import numpy as np\n",
    "import pandas as pd\n",
    "import matplotlib.pyplot as plt\n",
    "%matplotlib inline\n",
    "import seaborn as sns\n",
    "import datetime as dt\n",
    "\n",
    "import warnings\n",
    "warnings.filterwarnings('ignore')"
   ]
  },
  {
   "cell_type": "markdown",
   "id": "c29eebc2",
   "metadata": {},
   "source": [
    "**Loading the dataset**"
   ]
  },
  {
   "cell_type": "code",
   "execution_count": 2,
   "id": "89cb8ae4",
   "metadata": {},
   "outputs": [],
   "source": [
    "df = pd.read_excel('Online Retail.xlsx')"
   ]
  },
  {
   "cell_type": "code",
   "execution_count": 3,
   "id": "689ccf0d",
   "metadata": {},
   "outputs": [
    {
     "data": {
      "text/html": [
       "<div>\n",
       "<style scoped>\n",
       "    .dataframe tbody tr th:only-of-type {\n",
       "        vertical-align: middle;\n",
       "    }\n",
       "\n",
       "    .dataframe tbody tr th {\n",
       "        vertical-align: top;\n",
       "    }\n",
       "\n",
       "    .dataframe thead th {\n",
       "        text-align: right;\n",
       "    }\n",
       "</style>\n",
       "<table border=\"1\" class=\"dataframe\">\n",
       "  <thead>\n",
       "    <tr style=\"text-align: right;\">\n",
       "      <th></th>\n",
       "      <th>InvoiceNo</th>\n",
       "      <th>StockCode</th>\n",
       "      <th>Description</th>\n",
       "      <th>Quantity</th>\n",
       "      <th>InvoiceDate</th>\n",
       "      <th>UnitPrice</th>\n",
       "      <th>CustomerID</th>\n",
       "      <th>Country</th>\n",
       "    </tr>\n",
       "  </thead>\n",
       "  <tbody>\n",
       "    <tr>\n",
       "      <th>0</th>\n",
       "      <td>536365</td>\n",
       "      <td>85123A</td>\n",
       "      <td>WHITE HANGING HEART T-LIGHT HOLDER</td>\n",
       "      <td>6</td>\n",
       "      <td>2010-12-01 08:26:00</td>\n",
       "      <td>2.55</td>\n",
       "      <td>17850.0</td>\n",
       "      <td>United Kingdom</td>\n",
       "    </tr>\n",
       "    <tr>\n",
       "      <th>1</th>\n",
       "      <td>536365</td>\n",
       "      <td>71053</td>\n",
       "      <td>WHITE METAL LANTERN</td>\n",
       "      <td>6</td>\n",
       "      <td>2010-12-01 08:26:00</td>\n",
       "      <td>3.39</td>\n",
       "      <td>17850.0</td>\n",
       "      <td>United Kingdom</td>\n",
       "    </tr>\n",
       "    <tr>\n",
       "      <th>2</th>\n",
       "      <td>536365</td>\n",
       "      <td>84406B</td>\n",
       "      <td>CREAM CUPID HEARTS COAT HANGER</td>\n",
       "      <td>8</td>\n",
       "      <td>2010-12-01 08:26:00</td>\n",
       "      <td>2.75</td>\n",
       "      <td>17850.0</td>\n",
       "      <td>United Kingdom</td>\n",
       "    </tr>\n",
       "    <tr>\n",
       "      <th>3</th>\n",
       "      <td>536365</td>\n",
       "      <td>84029G</td>\n",
       "      <td>KNITTED UNION FLAG HOT WATER BOTTLE</td>\n",
       "      <td>6</td>\n",
       "      <td>2010-12-01 08:26:00</td>\n",
       "      <td>3.39</td>\n",
       "      <td>17850.0</td>\n",
       "      <td>United Kingdom</td>\n",
       "    </tr>\n",
       "    <tr>\n",
       "      <th>4</th>\n",
       "      <td>536365</td>\n",
       "      <td>84029E</td>\n",
       "      <td>RED WOOLLY HOTTIE WHITE HEART.</td>\n",
       "      <td>6</td>\n",
       "      <td>2010-12-01 08:26:00</td>\n",
       "      <td>3.39</td>\n",
       "      <td>17850.0</td>\n",
       "      <td>United Kingdom</td>\n",
       "    </tr>\n",
       "  </tbody>\n",
       "</table>\n",
       "</div>"
      ],
      "text/plain": [
       "  InvoiceNo StockCode                          Description  Quantity  \\\n",
       "0    536365    85123A   WHITE HANGING HEART T-LIGHT HOLDER         6   \n",
       "1    536365     71053                  WHITE METAL LANTERN         6   \n",
       "2    536365    84406B       CREAM CUPID HEARTS COAT HANGER         8   \n",
       "3    536365    84029G  KNITTED UNION FLAG HOT WATER BOTTLE         6   \n",
       "4    536365    84029E       RED WOOLLY HOTTIE WHITE HEART.         6   \n",
       "\n",
       "          InvoiceDate  UnitPrice  CustomerID         Country  \n",
       "0 2010-12-01 08:26:00       2.55     17850.0  United Kingdom  \n",
       "1 2010-12-01 08:26:00       3.39     17850.0  United Kingdom  \n",
       "2 2010-12-01 08:26:00       2.75     17850.0  United Kingdom  \n",
       "3 2010-12-01 08:26:00       3.39     17850.0  United Kingdom  \n",
       "4 2010-12-01 08:26:00       3.39     17850.0  United Kingdom  "
      ]
     },
     "execution_count": 3,
     "metadata": {},
     "output_type": "execute_result"
    }
   ],
   "source": [
    "### top 5 records\n",
    "df.head()"
   ]
  },
  {
   "cell_type": "markdown",
   "id": "8ab0110a",
   "metadata": {},
   "source": [
    "**Attribute Information:**\n",
    "\n",
    "- **InvoiceNo:** Invoice number A 6-digit integral number uniquely assigned to each customers,If this code starts with letter 'c', it indicates a cancellation.\n",
    "- **StockCode:** Product (item) code, a 5-digit integral number uniquely assigned to each  distinct product.\n",
    "- **Description:** product item descriptions.\n",
    "- **Quantity:** The quantities of each product (item) per transaction.\n",
    "- **InvoiceDate:** Invice date and time. The day and time when a transaction was generated.\n",
    "- **UnitPrice:** Unit price. Product price per unit.\n",
    "- **CustomerID:** Customer number. A 5-digit integral number uniquely assigned to each customer.\n",
    "- **Country:** Country name. The name of the country where a customer resides."
   ]
  },
  {
   "cell_type": "markdown",
   "id": "800c87e9",
   "metadata": {},
   "source": [
    "**Exploring the dataset**"
   ]
  },
  {
   "cell_type": "code",
   "execution_count": 4,
   "id": "54f24319",
   "metadata": {},
   "outputs": [
    {
     "data": {
      "text/plain": [
       "(541909, 8)"
      ]
     },
     "execution_count": 4,
     "metadata": {},
     "output_type": "execute_result"
    }
   ],
   "source": [
    "df.shape ## dataset rows and columns"
   ]
  },
  {
   "cell_type": "code",
   "execution_count": 5,
   "id": "5084d472",
   "metadata": {},
   "outputs": [
    {
     "data": {
      "text/plain": [
       "Index(['InvoiceNo', 'StockCode', 'Description', 'Quantity', 'InvoiceDate',\n",
       "       'UnitPrice', 'CustomerID', 'Country'],\n",
       "      dtype='object')"
      ]
     },
     "execution_count": 5,
     "metadata": {},
     "output_type": "execute_result"
    }
   ],
   "source": [
    "df.columns"
   ]
  },
  {
   "cell_type": "code",
   "execution_count": 6,
   "id": "677de510",
   "metadata": {},
   "outputs": [
    {
     "data": {
      "text/plain": [
       "InvoiceNo              object\n",
       "StockCode              object\n",
       "Description            object\n",
       "Quantity                int64\n",
       "InvoiceDate    datetime64[ns]\n",
       "UnitPrice             float64\n",
       "CustomerID            float64\n",
       "Country                object\n",
       "dtype: object"
      ]
     },
     "execution_count": 6,
     "metadata": {},
     "output_type": "execute_result"
    }
   ],
   "source": [
    "df.dtypes ## datatypes of all columns"
   ]
  },
  {
   "cell_type": "code",
   "execution_count": 7,
   "id": "81c367dd",
   "metadata": {},
   "outputs": [
    {
     "name": "stdout",
     "output_type": "stream",
     "text": [
      "<class 'pandas.core.frame.DataFrame'>\n",
      "RangeIndex: 541909 entries, 0 to 541908\n",
      "Data columns (total 8 columns):\n",
      " #   Column       Non-Null Count   Dtype         \n",
      "---  ------       --------------   -----         \n",
      " 0   InvoiceNo    541909 non-null  object        \n",
      " 1   StockCode    541909 non-null  object        \n",
      " 2   Description  540455 non-null  object        \n",
      " 3   Quantity     541909 non-null  int64         \n",
      " 4   InvoiceDate  541909 non-null  datetime64[ns]\n",
      " 5   UnitPrice    541909 non-null  float64       \n",
      " 6   CustomerID   406829 non-null  float64       \n",
      " 7   Country      541909 non-null  object        \n",
      "dtypes: datetime64[ns](1), float64(2), int64(1), object(4)\n",
      "memory usage: 33.1+ MB\n"
     ]
    }
   ],
   "source": [
    "df.info() #gives all info about the dataset."
   ]
  },
  {
   "cell_type": "code",
   "execution_count": 8,
   "id": "ad8baeee",
   "metadata": {},
   "outputs": [
    {
     "data": {
      "text/plain": [
       "CustomerID     135080\n",
       "Description      1454\n",
       "InvoiceNo           0\n",
       "StockCode           0\n",
       "Quantity            0\n",
       "InvoiceDate         0\n",
       "UnitPrice           0\n",
       "Country             0\n",
       "dtype: int64"
      ]
     },
     "execution_count": 8,
     "metadata": {},
     "output_type": "execute_result"
    }
   ],
   "source": [
    "## Checking missing values\n",
    "df.isnull().sum().sort_values(ascending=False)"
   ]
  },
  {
   "cell_type": "code",
   "execution_count": 9,
   "id": "b0901c69",
   "metadata": {},
   "outputs": [
    {
     "data": {
      "text/plain": [
       "CustomerID     24.926694\n",
       "Description     0.268311\n",
       "InvoiceNo       0.000000\n",
       "StockCode       0.000000\n",
       "Quantity        0.000000\n",
       "InvoiceDate     0.000000\n",
       "UnitPrice       0.000000\n",
       "Country         0.000000\n",
       "dtype: float64"
      ]
     },
     "execution_count": 9,
     "metadata": {},
     "output_type": "execute_result"
    }
   ],
   "source": [
    "(df.isnull().sum()/len(df)*100).sort_values(ascending=False)  ## % of missing values"
   ]
  },
  {
   "cell_type": "markdown",
   "id": "9ddbe118",
   "metadata": {},
   "source": [
    "- For purposes of customer segmentation missing ids, we  will dropped missing values in customers id."
   ]
  },
  {
   "cell_type": "code",
   "execution_count": 10,
   "id": "53bfa0e7",
   "metadata": {},
   "outputs": [
    {
     "name": "stdout",
     "output_type": "stream",
     "text": [
      "Number of unique customers IDs: 4373\n"
     ]
    }
   ],
   "source": [
    "print(\"Number of unique customers IDs:\", len(df['CustomerID'].unique()))"
   ]
  },
  {
   "cell_type": "code",
   "execution_count": 11,
   "id": "2a3352d6",
   "metadata": {},
   "outputs": [],
   "source": [
    "df = df.dropna()"
   ]
  },
  {
   "cell_type": "code",
   "execution_count": 12,
   "id": "0d417780",
   "metadata": {},
   "outputs": [
    {
     "data": {
      "text/plain": [
       "(406829, 8)"
      ]
     },
     "execution_count": 12,
     "metadata": {},
     "output_type": "execute_result"
    }
   ],
   "source": [
    "df.shape"
   ]
  },
  {
   "cell_type": "markdown",
   "id": "7feeabe6",
   "metadata": {},
   "source": [
    "- Now we have 406829 rows and 8 columns in our dataset."
   ]
  },
  {
   "cell_type": "code",
   "execution_count": 13,
   "id": "bbb06293",
   "metadata": {},
   "outputs": [],
   "source": [
    "df['Description'] = df['Description'].str.lower()"
   ]
  },
  {
   "cell_type": "code",
   "execution_count": 14,
   "id": "4815dee9",
   "metadata": {},
   "outputs": [
    {
     "data": {
      "text/html": [
       "<div>\n",
       "<style scoped>\n",
       "    .dataframe tbody tr th:only-of-type {\n",
       "        vertical-align: middle;\n",
       "    }\n",
       "\n",
       "    .dataframe tbody tr th {\n",
       "        vertical-align: top;\n",
       "    }\n",
       "\n",
       "    .dataframe thead th {\n",
       "        text-align: right;\n",
       "    }\n",
       "</style>\n",
       "<table border=\"1\" class=\"dataframe\">\n",
       "  <thead>\n",
       "    <tr style=\"text-align: right;\">\n",
       "      <th></th>\n",
       "      <th>InvoiceNo</th>\n",
       "      <th>StockCode</th>\n",
       "      <th>Description</th>\n",
       "      <th>Quantity</th>\n",
       "      <th>InvoiceDate</th>\n",
       "      <th>UnitPrice</th>\n",
       "      <th>CustomerID</th>\n",
       "      <th>Country</th>\n",
       "    </tr>\n",
       "  </thead>\n",
       "  <tbody>\n",
       "    <tr>\n",
       "      <th>0</th>\n",
       "      <td>536365</td>\n",
       "      <td>85123A</td>\n",
       "      <td>white hanging heart t-light holder</td>\n",
       "      <td>6</td>\n",
       "      <td>2010-12-01 08:26:00</td>\n",
       "      <td>2.55</td>\n",
       "      <td>17850.0</td>\n",
       "      <td>United Kingdom</td>\n",
       "    </tr>\n",
       "    <tr>\n",
       "      <th>1</th>\n",
       "      <td>536365</td>\n",
       "      <td>71053</td>\n",
       "      <td>white metal lantern</td>\n",
       "      <td>6</td>\n",
       "      <td>2010-12-01 08:26:00</td>\n",
       "      <td>3.39</td>\n",
       "      <td>17850.0</td>\n",
       "      <td>United Kingdom</td>\n",
       "    </tr>\n",
       "  </tbody>\n",
       "</table>\n",
       "</div>"
      ],
      "text/plain": [
       "  InvoiceNo StockCode                         Description  Quantity  \\\n",
       "0    536365    85123A  white hanging heart t-light holder         6   \n",
       "1    536365     71053                 white metal lantern         6   \n",
       "\n",
       "          InvoiceDate  UnitPrice  CustomerID         Country  \n",
       "0 2010-12-01 08:26:00       2.55     17850.0  United Kingdom  \n",
       "1 2010-12-01 08:26:00       3.39     17850.0  United Kingdom  "
      ]
     },
     "execution_count": 14,
     "metadata": {},
     "output_type": "execute_result"
    }
   ],
   "source": [
    "df.head(2)"
   ]
  },
  {
   "cell_type": "code",
   "execution_count": 15,
   "id": "2df9d18d",
   "metadata": {},
   "outputs": [],
   "source": [
    "## Converting customer_id(float type) to integer type\n",
    "df['CustomerID'] = df['CustomerID'].astype('int64') "
   ]
  },
  {
   "cell_type": "code",
   "execution_count": 16,
   "id": "21a20302",
   "metadata": {},
   "outputs": [
    {
     "data": {
      "text/html": [
       "<div>\n",
       "<style scoped>\n",
       "    .dataframe tbody tr th:only-of-type {\n",
       "        vertical-align: middle;\n",
       "    }\n",
       "\n",
       "    .dataframe tbody tr th {\n",
       "        vertical-align: top;\n",
       "    }\n",
       "\n",
       "    .dataframe thead th {\n",
       "        text-align: right;\n",
       "    }\n",
       "</style>\n",
       "<table border=\"1\" class=\"dataframe\">\n",
       "  <thead>\n",
       "    <tr style=\"text-align: right;\">\n",
       "      <th></th>\n",
       "      <th>Quantity</th>\n",
       "      <th>UnitPrice</th>\n",
       "      <th>CustomerID</th>\n",
       "    </tr>\n",
       "  </thead>\n",
       "  <tbody>\n",
       "    <tr>\n",
       "      <th>count</th>\n",
       "      <td>406829.000000</td>\n",
       "      <td>406829.000000</td>\n",
       "      <td>406829.000000</td>\n",
       "    </tr>\n",
       "    <tr>\n",
       "      <th>mean</th>\n",
       "      <td>12.061303</td>\n",
       "      <td>3.460471</td>\n",
       "      <td>15287.690570</td>\n",
       "    </tr>\n",
       "    <tr>\n",
       "      <th>std</th>\n",
       "      <td>248.693370</td>\n",
       "      <td>69.315162</td>\n",
       "      <td>1713.600303</td>\n",
       "    </tr>\n",
       "    <tr>\n",
       "      <th>min</th>\n",
       "      <td>-80995.000000</td>\n",
       "      <td>0.000000</td>\n",
       "      <td>12346.000000</td>\n",
       "    </tr>\n",
       "    <tr>\n",
       "      <th>25%</th>\n",
       "      <td>2.000000</td>\n",
       "      <td>1.250000</td>\n",
       "      <td>13953.000000</td>\n",
       "    </tr>\n",
       "    <tr>\n",
       "      <th>50%</th>\n",
       "      <td>5.000000</td>\n",
       "      <td>1.950000</td>\n",
       "      <td>15152.000000</td>\n",
       "    </tr>\n",
       "    <tr>\n",
       "      <th>75%</th>\n",
       "      <td>12.000000</td>\n",
       "      <td>3.750000</td>\n",
       "      <td>16791.000000</td>\n",
       "    </tr>\n",
       "    <tr>\n",
       "      <th>max</th>\n",
       "      <td>80995.000000</td>\n",
       "      <td>38970.000000</td>\n",
       "      <td>18287.000000</td>\n",
       "    </tr>\n",
       "  </tbody>\n",
       "</table>\n",
       "</div>"
      ],
      "text/plain": [
       "            Quantity      UnitPrice     CustomerID\n",
       "count  406829.000000  406829.000000  406829.000000\n",
       "mean       12.061303       3.460471   15287.690570\n",
       "std       248.693370      69.315162    1713.600303\n",
       "min    -80995.000000       0.000000   12346.000000\n",
       "25%         2.000000       1.250000   13953.000000\n",
       "50%         5.000000       1.950000   15152.000000\n",
       "75%        12.000000       3.750000   16791.000000\n",
       "max     80995.000000   38970.000000   18287.000000"
      ]
     },
     "execution_count": 16,
     "metadata": {},
     "output_type": "execute_result"
    }
   ],
   "source": [
    "df.describe()"
   ]
  },
  {
   "cell_type": "markdown",
   "id": "140af442",
   "metadata": {},
   "source": [
    "- As we can see,some quantity is negative, but quantity values should ideally be positive in nature.\n",
    "\n",
    "- Let's have a closer look on the reason of negative values in these variables. In the description of dataset we can see  that sme trancsaction are started with letter 'C',which means Cancled transactions. Probably transactions with negative values of quantity are canceled."
   ]
  },
  {
   "cell_type": "code",
   "execution_count": 17,
   "id": "a45f2c06",
   "metadata": {},
   "outputs": [
    {
     "data": {
      "text/html": [
       "<div>\n",
       "<style scoped>\n",
       "    .dataframe tbody tr th:only-of-type {\n",
       "        vertical-align: middle;\n",
       "    }\n",
       "\n",
       "    .dataframe tbody tr th {\n",
       "        vertical-align: top;\n",
       "    }\n",
       "\n",
       "    .dataframe thead th {\n",
       "        text-align: right;\n",
       "    }\n",
       "</style>\n",
       "<table border=\"1\" class=\"dataframe\">\n",
       "  <thead>\n",
       "    <tr style=\"text-align: right;\">\n",
       "      <th></th>\n",
       "      <th>InvoiceNo</th>\n",
       "      <th>StockCode</th>\n",
       "      <th>Description</th>\n",
       "      <th>Quantity</th>\n",
       "      <th>InvoiceDate</th>\n",
       "      <th>UnitPrice</th>\n",
       "      <th>CustomerID</th>\n",
       "      <th>Country</th>\n",
       "    </tr>\n",
       "  </thead>\n",
       "  <tbody>\n",
       "    <tr>\n",
       "      <th>141</th>\n",
       "      <td>C536379</td>\n",
       "      <td>D</td>\n",
       "      <td>discount</td>\n",
       "      <td>-1</td>\n",
       "      <td>2010-12-01 09:41:00</td>\n",
       "      <td>27.50</td>\n",
       "      <td>14527</td>\n",
       "      <td>United Kingdom</td>\n",
       "    </tr>\n",
       "    <tr>\n",
       "      <th>154</th>\n",
       "      <td>C536383</td>\n",
       "      <td>35004C</td>\n",
       "      <td>set of 3 coloured  flying ducks</td>\n",
       "      <td>-1</td>\n",
       "      <td>2010-12-01 09:49:00</td>\n",
       "      <td>4.65</td>\n",
       "      <td>15311</td>\n",
       "      <td>United Kingdom</td>\n",
       "    </tr>\n",
       "    <tr>\n",
       "      <th>235</th>\n",
       "      <td>C536391</td>\n",
       "      <td>22556</td>\n",
       "      <td>plasters in tin circus parade</td>\n",
       "      <td>-12</td>\n",
       "      <td>2010-12-01 10:24:00</td>\n",
       "      <td>1.65</td>\n",
       "      <td>17548</td>\n",
       "      <td>United Kingdom</td>\n",
       "    </tr>\n",
       "    <tr>\n",
       "      <th>236</th>\n",
       "      <td>C536391</td>\n",
       "      <td>21984</td>\n",
       "      <td>pack of 12 pink paisley tissues</td>\n",
       "      <td>-24</td>\n",
       "      <td>2010-12-01 10:24:00</td>\n",
       "      <td>0.29</td>\n",
       "      <td>17548</td>\n",
       "      <td>United Kingdom</td>\n",
       "    </tr>\n",
       "    <tr>\n",
       "      <th>237</th>\n",
       "      <td>C536391</td>\n",
       "      <td>21983</td>\n",
       "      <td>pack of 12 blue paisley tissues</td>\n",
       "      <td>-24</td>\n",
       "      <td>2010-12-01 10:24:00</td>\n",
       "      <td>0.29</td>\n",
       "      <td>17548</td>\n",
       "      <td>United Kingdom</td>\n",
       "    </tr>\n",
       "  </tbody>\n",
       "</table>\n",
       "</div>"
      ],
      "text/plain": [
       "    InvoiceNo StockCode                       Description  Quantity  \\\n",
       "141   C536379         D                          discount        -1   \n",
       "154   C536383    35004C   set of 3 coloured  flying ducks        -1   \n",
       "235   C536391     22556    plasters in tin circus parade        -12   \n",
       "236   C536391     21984  pack of 12 pink paisley tissues        -24   \n",
       "237   C536391     21983  pack of 12 blue paisley tissues        -24   \n",
       "\n",
       "            InvoiceDate  UnitPrice  CustomerID         Country  \n",
       "141 2010-12-01 09:41:00      27.50       14527  United Kingdom  \n",
       "154 2010-12-01 09:49:00       4.65       15311  United Kingdom  \n",
       "235 2010-12-01 10:24:00       1.65       17548  United Kingdom  \n",
       "236 2010-12-01 10:24:00       0.29       17548  United Kingdom  \n",
       "237 2010-12-01 10:24:00       0.29       17548  United Kingdom  "
      ]
     },
     "execution_count": 17,
     "metadata": {},
     "output_type": "execute_result"
    }
   ],
   "source": [
    "## Filtering transaction with invoice number started with letter 'C'\n",
    "cancelled_trans = df[df['InvoiceNo'].astype(str).str.contains('C')]\n",
    "cancelled_trans.head()"
   ]
  },
  {
   "cell_type": "code",
   "execution_count": 18,
   "id": "8a5d2faf",
   "metadata": {},
   "outputs": [
    {
     "data": {
      "text/plain": [
       "8905"
      ]
     },
     "execution_count": 18,
     "metadata": {},
     "output_type": "execute_result"
    }
   ],
   "source": [
    "cancelled_trans['InvoiceNo'].count()"
   ]
  },
  {
   "cell_type": "code",
   "execution_count": 19,
   "id": "70852096",
   "metadata": {},
   "outputs": [
    {
     "data": {
      "text/html": [
       "<div>\n",
       "<style scoped>\n",
       "    .dataframe tbody tr th:only-of-type {\n",
       "        vertical-align: middle;\n",
       "    }\n",
       "\n",
       "    .dataframe tbody tr th {\n",
       "        vertical-align: top;\n",
       "    }\n",
       "\n",
       "    .dataframe thead th {\n",
       "        text-align: right;\n",
       "    }\n",
       "</style>\n",
       "<table border=\"1\" class=\"dataframe\">\n",
       "  <thead>\n",
       "    <tr style=\"text-align: right;\">\n",
       "      <th></th>\n",
       "      <th>InvoiceNo</th>\n",
       "      <th>StockCode</th>\n",
       "      <th>Description</th>\n",
       "      <th>Quantity</th>\n",
       "      <th>InvoiceDate</th>\n",
       "      <th>UnitPrice</th>\n",
       "      <th>CustomerID</th>\n",
       "      <th>Country</th>\n",
       "    </tr>\n",
       "  </thead>\n",
       "  <tbody>\n",
       "  </tbody>\n",
       "</table>\n",
       "</div>"
      ],
      "text/plain": [
       "Empty DataFrame\n",
       "Columns: [InvoiceNo, StockCode, Description, Quantity, InvoiceDate, UnitPrice, CustomerID, Country]\n",
       "Index: []"
      ]
     },
     "execution_count": 19,
     "metadata": {},
     "output_type": "execute_result"
    }
   ],
   "source": [
    "cancelled_trans[cancelled_trans['Quantity']>0]"
   ]
  },
  {
   "cell_type": "markdown",
   "id": "24461eb2",
   "metadata": {},
   "source": [
    "- We can see there are 8905 InvoiceNo with the Cancelled transaction.\n",
    "- Among cancelled transactions ther are no transaction with positive quantity"
   ]
  },
  {
   "cell_type": "code",
   "execution_count": 20,
   "id": "57e7ebed",
   "metadata": {},
   "outputs": [
    {
     "name": "stdout",
     "output_type": "stream",
     "text": [
      "Number of cancelled transactions: 8905\n",
      "Total number of transaction with negative quantity: 8905\n"
     ]
    }
   ],
   "source": [
    "print(\"Number of cancelled transactions:\", len(cancelled_trans))\n",
    "print(\"Total number of transaction with negative quantity:\", df[df['Quantity'] < 0 ]['Quantity'].count())"
   ]
  },
  {
   "cell_type": "markdown",
   "id": "4946d4e3",
   "metadata": {},
   "source": [
    "- No negative quantity in dataset.\n",
    "- Assuming that quantity should not be negative we will just drop the InvoiceID with cancelled transaction."
   ]
  },
  {
   "cell_type": "code",
   "execution_count": 21,
   "id": "bc05bb08",
   "metadata": {},
   "outputs": [],
   "source": [
    "pos_quan = df['Quantity']>0"
   ]
  },
  {
   "cell_type": "code",
   "execution_count": 22,
   "id": "0d6d7eef",
   "metadata": {},
   "outputs": [],
   "source": [
    "df = df[pos_quan]"
   ]
  },
  {
   "cell_type": "code",
   "execution_count": 23,
   "id": "32a5a2dc",
   "metadata": {},
   "outputs": [
    {
     "data": {
      "text/plain": [
       "(397924, 8)"
      ]
     },
     "execution_count": 23,
     "metadata": {},
     "output_type": "execute_result"
    }
   ],
   "source": [
    "## dataset shape after removing negative quantities\n",
    "\n",
    "df.shape"
   ]
  },
  {
   "cell_type": "code",
   "execution_count": 24,
   "id": "25709d1f",
   "metadata": {},
   "outputs": [
    {
     "data": {
      "text/html": [
       "<div>\n",
       "<style scoped>\n",
       "    .dataframe tbody tr th:only-of-type {\n",
       "        vertical-align: middle;\n",
       "    }\n",
       "\n",
       "    .dataframe tbody tr th {\n",
       "        vertical-align: top;\n",
       "    }\n",
       "\n",
       "    .dataframe thead th {\n",
       "        text-align: right;\n",
       "    }\n",
       "</style>\n",
       "<table border=\"1\" class=\"dataframe\">\n",
       "  <thead>\n",
       "    <tr style=\"text-align: right;\">\n",
       "      <th></th>\n",
       "      <th>Quantity</th>\n",
       "      <th>UnitPrice</th>\n",
       "      <th>CustomerID</th>\n",
       "    </tr>\n",
       "  </thead>\n",
       "  <tbody>\n",
       "    <tr>\n",
       "      <th>count</th>\n",
       "      <td>397924.00</td>\n",
       "      <td>397924.00</td>\n",
       "      <td>397924.00</td>\n",
       "    </tr>\n",
       "    <tr>\n",
       "      <th>mean</th>\n",
       "      <td>13.02</td>\n",
       "      <td>3.12</td>\n",
       "      <td>15294.32</td>\n",
       "    </tr>\n",
       "    <tr>\n",
       "      <th>std</th>\n",
       "      <td>180.42</td>\n",
       "      <td>22.10</td>\n",
       "      <td>1713.17</td>\n",
       "    </tr>\n",
       "    <tr>\n",
       "      <th>min</th>\n",
       "      <td>1.00</td>\n",
       "      <td>0.00</td>\n",
       "      <td>12346.00</td>\n",
       "    </tr>\n",
       "    <tr>\n",
       "      <th>25%</th>\n",
       "      <td>2.00</td>\n",
       "      <td>1.25</td>\n",
       "      <td>13969.00</td>\n",
       "    </tr>\n",
       "    <tr>\n",
       "      <th>50%</th>\n",
       "      <td>6.00</td>\n",
       "      <td>1.95</td>\n",
       "      <td>15159.00</td>\n",
       "    </tr>\n",
       "    <tr>\n",
       "      <th>75%</th>\n",
       "      <td>12.00</td>\n",
       "      <td>3.75</td>\n",
       "      <td>16795.00</td>\n",
       "    </tr>\n",
       "    <tr>\n",
       "      <th>max</th>\n",
       "      <td>80995.00</td>\n",
       "      <td>8142.75</td>\n",
       "      <td>18287.00</td>\n",
       "    </tr>\n",
       "  </tbody>\n",
       "</table>\n",
       "</div>"
      ],
      "text/plain": [
       "        Quantity  UnitPrice  CustomerID\n",
       "count  397924.00  397924.00   397924.00\n",
       "mean       13.02       3.12    15294.32\n",
       "std       180.42      22.10     1713.17\n",
       "min         1.00       0.00    12346.00\n",
       "25%         2.00       1.25    13969.00\n",
       "50%         6.00       1.95    15159.00\n",
       "75%        12.00       3.75    16795.00\n",
       "max     80995.00    8142.75    18287.00"
      ]
     },
     "execution_count": 24,
     "metadata": {},
     "output_type": "execute_result"
    }
   ],
   "source": [
    "df.describe().round(2)"
   ]
  },
  {
   "cell_type": "code",
   "execution_count": 25,
   "id": "639bec72",
   "metadata": {},
   "outputs": [
    {
     "data": {
      "text/html": [
       "<div>\n",
       "<style scoped>\n",
       "    .dataframe tbody tr th:only-of-type {\n",
       "        vertical-align: middle;\n",
       "    }\n",
       "\n",
       "    .dataframe tbody tr th {\n",
       "        vertical-align: top;\n",
       "    }\n",
       "\n",
       "    .dataframe thead th {\n",
       "        text-align: right;\n",
       "    }\n",
       "</style>\n",
       "<table border=\"1\" class=\"dataframe\">\n",
       "  <thead>\n",
       "    <tr style=\"text-align: right;\">\n",
       "      <th></th>\n",
       "      <th>InvoiceNo</th>\n",
       "      <th>StockCode</th>\n",
       "      <th>Description</th>\n",
       "      <th>Quantity</th>\n",
       "      <th>InvoiceDate</th>\n",
       "      <th>UnitPrice</th>\n",
       "      <th>CustomerID</th>\n",
       "      <th>Country</th>\n",
       "    </tr>\n",
       "  </thead>\n",
       "  <tbody>\n",
       "    <tr>\n",
       "      <th>0</th>\n",
       "      <td>536365</td>\n",
       "      <td>85123A</td>\n",
       "      <td>white hanging heart t-light holder</td>\n",
       "      <td>6</td>\n",
       "      <td>2010-12-01 08:26:00</td>\n",
       "      <td>2.55</td>\n",
       "      <td>17850</td>\n",
       "      <td>United Kingdom</td>\n",
       "    </tr>\n",
       "    <tr>\n",
       "      <th>1</th>\n",
       "      <td>536365</td>\n",
       "      <td>71053</td>\n",
       "      <td>white metal lantern</td>\n",
       "      <td>6</td>\n",
       "      <td>2010-12-01 08:26:00</td>\n",
       "      <td>3.39</td>\n",
       "      <td>17850</td>\n",
       "      <td>United Kingdom</td>\n",
       "    </tr>\n",
       "    <tr>\n",
       "      <th>2</th>\n",
       "      <td>536365</td>\n",
       "      <td>84406B</td>\n",
       "      <td>cream cupid hearts coat hanger</td>\n",
       "      <td>8</td>\n",
       "      <td>2010-12-01 08:26:00</td>\n",
       "      <td>2.75</td>\n",
       "      <td>17850</td>\n",
       "      <td>United Kingdom</td>\n",
       "    </tr>\n",
       "  </tbody>\n",
       "</table>\n",
       "</div>"
      ],
      "text/plain": [
       "  InvoiceNo StockCode                         Description  Quantity  \\\n",
       "0    536365    85123A  white hanging heart t-light holder         6   \n",
       "1    536365     71053                 white metal lantern         6   \n",
       "2    536365    84406B      cream cupid hearts coat hanger         8   \n",
       "\n",
       "          InvoiceDate  UnitPrice  CustomerID         Country  \n",
       "0 2010-12-01 08:26:00       2.55       17850  United Kingdom  \n",
       "1 2010-12-01 08:26:00       3.39       17850  United Kingdom  \n",
       "2 2010-12-01 08:26:00       2.75       17850  United Kingdom  "
      ]
     },
     "execution_count": 25,
     "metadata": {},
     "output_type": "execute_result"
    }
   ],
   "source": [
    "df.head(3)"
   ]
  },
  {
   "cell_type": "code",
   "execution_count": 26,
   "id": "659607d1",
   "metadata": {},
   "outputs": [
    {
     "data": {
      "text/plain": [
       "InvoiceNo              object\n",
       "StockCode              object\n",
       "Description            object\n",
       "Quantity                int64\n",
       "InvoiceDate    datetime64[ns]\n",
       "UnitPrice             float64\n",
       "CustomerID              int64\n",
       "Country                object\n",
       "dtype: object"
      ]
     },
     "execution_count": 26,
     "metadata": {},
     "output_type": "execute_result"
    }
   ],
   "source": [
    "df.dtypes"
   ]
  },
  {
   "cell_type": "markdown",
   "id": "7f949a2b",
   "metadata": {},
   "source": [
    "- In Pandas, the day format starts from 0 to 6, i.e. Monday=0, Tuesday=1,.....Sunday=6, so apply +1 to make Monday=1...untill Sunday=7"
   ]
  },
  {
   "cell_type": "code",
   "execution_count": null,
   "id": "65cd9077",
   "metadata": {},
   "outputs": [],
   "source": [
    "df[\"Year\"] = (df[\"InvoiceDate\"]).dt.year\n",
    "df[\"Month\"] = (df[\"InvoiceDate\"]).dt.month\n",
    "df[\"Day\"] = ((df[\"InvoiceDate\"]).dt.dayofweek) + 1\n",
    "df[\"Hour\"] = df[\"InvoiceDate\"].dt.strftime('%H')\n",
    "df.head(3)"
   ]
  },
  {
   "cell_type": "code",
   "execution_count": null,
   "id": "40fce2b1",
   "metadata": {},
   "outputs": [],
   "source": [
    "df['Day_Name'] = df['InvoiceDate'].dt.day_name()\n",
    "df.head(3)"
   ]
  },
  {
   "cell_type": "code",
   "execution_count": null,
   "id": "b6bc3411",
   "metadata": {},
   "outputs": [],
   "source": [
    "df[\"IsWeekend\"] = (df[\"Day\"] >= 6).astype(int)\n",
    "df.head(3)"
   ]
  },
  {
   "cell_type": "code",
   "execution_count": null,
   "id": "1d8089af",
   "metadata": {},
   "outputs": [],
   "source": [
    "df['Year'].unique()"
   ]
  },
  {
   "cell_type": "code",
   "execution_count": null,
   "id": "1aeba530",
   "metadata": {},
   "outputs": [],
   "source": [
    "df['Day'].unique()"
   ]
  },
  {
   "cell_type": "code",
   "execution_count": null,
   "id": "c17695da",
   "metadata": {},
   "outputs": [],
   "source": [
    "df['Day_Name'].unique()"
   ]
  },
  {
   "cell_type": "markdown",
   "id": "863db8a1",
   "metadata": {},
   "source": [
    "**creating a new feature, Total_Amount which the  Customer spend on Purchase**"
   ]
  },
  {
   "cell_type": "code",
   "execution_count": null,
   "id": "d6097921",
   "metadata": {},
   "outputs": [],
   "source": [
    "df['Amount_Spent'] = df['Quantity']* df['UnitPrice']\n",
    "df.head(3)"
   ]
  },
  {
   "cell_type": "markdown",
   "id": "26b2ccde",
   "metadata": {},
   "source": [
    "### Data Visulaization(EDA)"
   ]
  },
  {
   "cell_type": "markdown",
   "id": "1cec16a6",
   "metadata": {},
   "source": [
    "**Top 10 cutomers with Country and Invoice Number**"
   ]
  },
  {
   "cell_type": "code",
   "execution_count": null,
   "id": "399219ef",
   "metadata": {},
   "outputs": [],
   "source": [
    "cust_invoice_country = df.groupby(['CustomerID','Country'])['InvoiceNo'].count().sort_values(ascending=False)[:10].reset_index()\n",
    "cust_invoice_country"
   ]
  },
  {
   "cell_type": "code",
   "execution_count": null,
   "id": "d58ed243",
   "metadata": {},
   "outputs": [],
   "source": [
    "customer_invoice = df.groupby(['CustomerID'])['InvoiceNo'].count().sort_values(ascending=False)[:10]"
   ]
  },
  {
   "cell_type": "code",
   "execution_count": null,
   "id": "1070246b",
   "metadata": {},
   "outputs": [],
   "source": [
    "plt.figure(figsize=(6,5))\n",
    "ax = sns.barplot(x=customer_invoice.index, y=customer_invoice.values)\n",
    "plt.xlabel('Customer ID')\n",
    "plt.ylabel('Number of Orders')\n",
    "plt.title('Number of Orders for different Customers')\n",
    "plt.xticks(rotation= 45)\n",
    "for label in ax.containers:\n",
    "    ax.bar_label(label);"
   ]
  },
  {
   "cell_type": "code",
   "execution_count": null,
   "id": "d14bfee5",
   "metadata": {},
   "outputs": [],
   "source": [
    "country_invoice = df.groupby(['Country'])['InvoiceNo'].count().sort_values(ascending=False)[:10]\n",
    "country_invoice"
   ]
  },
  {
   "cell_type": "code",
   "execution_count": null,
   "id": "382e7772",
   "metadata": {},
   "outputs": [],
   "source": [
    "plt.figure(figsize=(6,5))\n",
    "ax = sns.barplot(x=country_invoice.index, y=country_invoice.values)\n",
    "plt.xlabel('Country')\n",
    "plt.ylabel('Number of Orders')\n",
    "plt.title('Customers country Vs InvoiceNo')\n",
    "plt.xticks(rotation=45)\n",
    "for label in ax.containers:\n",
    "    ax.bar_label(label)\n",
    "\n",
    "plt.show() "
   ]
  },
  {
   "cell_type": "markdown",
   "id": "d5dca829",
   "metadata": {},
   "source": [
    "- We can see that most of the InvoiceNo generated for United Kingdom which means most of the customers are from United Kingdom."
   ]
  },
  {
   "cell_type": "markdown",
   "id": "d2cb0f00",
   "metadata": {},
   "source": [
    "* **Total_Amount spent by top 10 Customers based on invoiceNo and Country.**"
   ]
  },
  {
   "cell_type": "code",
   "execution_count": null,
   "id": "f15a6e81",
   "metadata": {},
   "outputs": [],
   "source": [
    "money_spent_10 = df.groupby(by=['CustomerID','Country','InvoiceNo'])['Amount_Spent'].sum().sort_values(ascending=False).reset_index()[:10]\n",
    "money_spent_10"
   ]
  },
  {
   "cell_type": "code",
   "execution_count": null,
   "id": "1a0eb6b2",
   "metadata": {},
   "outputs": [],
   "source": [
    "money_spent = df.groupby(by=['CustomerID'])['Amount_Spent'].sum().sort_values(ascending=False).reset_index()[:20]\n",
    "money_spent"
   ]
  },
  {
   "cell_type": "code",
   "execution_count": null,
   "id": "4e8cf74e",
   "metadata": {},
   "outputs": [],
   "source": [
    "plt.figure(figsize = (12,5))\n",
    "ax = sns.barplot(x = 'CustomerID',  y = 'Amount_Spent', data= money_spent)\n",
    "plt.xlabel('Customers ID')\n",
    "plt.ylabel('Amount Spent')\n",
    "plt.title('Top 20 CustomersID Vs Amount Spent')\n",
    "plt.xticks(rotation=45)\n",
    "for label in ax.containers:\n",
    "    ax.bar_label(label)\n",
    "\n",
    "plt.show() "
   ]
  },
  {
   "cell_type": "markdown",
   "id": "fb946316",
   "metadata": {},
   "source": [
    "**How many orders per month?**"
   ]
  },
  {
   "cell_type": "code",
   "execution_count": null,
   "id": "1e1a05bb",
   "metadata": {},
   "outputs": [],
   "source": [
    "monthly_sale = df.groupby(['Month'])['InvoiceNo'].count().reindex([1,2,3,4,5,6,7,8,9,10,11,12]).reset_index()\n",
    "monthly_sale"
   ]
  },
  {
   "cell_type": "code",
   "execution_count": null,
   "id": "4b6116d3",
   "metadata": {},
   "outputs": [],
   "source": [
    "df['Month'].unique()"
   ]
  },
  {
   "cell_type": "code",
   "execution_count": null,
   "id": "9b05edf5",
   "metadata": {},
   "outputs": [],
   "source": [
    "plt.figure(figsize=(4,3))\n",
    "ax = sns.lineplot(x=\"Month\", y=\"InvoiceNo\", data = monthly_sale )\n",
    "plt.xlabel(\"Month\")\n",
    "plt.ylabel(\"Invoice generated\")\n",
    "plt.title(\"Month wise Orders\")\n",
    "plt.show()"
   ]
  },
  {
   "cell_type": "markdown",
   "id": "579dc2e6",
   "metadata": {},
   "source": [
    "- There are more purchasing made at the end of the year. The highest number of transactions were made during November. Probably reason could be the fact, that people tend to prepare for Christmas during November. Other than the month of November, number of purchases during the year is quite similar."
   ]
  },
  {
   "cell_type": "markdown",
   "id": "5812c0a4",
   "metadata": {},
   "source": [
    "**How many orders per Day?**"
   ]
  },
  {
   "cell_type": "code",
   "execution_count": null,
   "id": "69fe6cbc",
   "metadata": {},
   "outputs": [],
   "source": [
    "daily_sale = df.groupby(['Day_Name'])['InvoiceNo'].count().reindex(['Monday', 'Tuesday', 'Wednesday', 'Thursday', 'Friday', 'Sunday']).reset_index()\n",
    "daily_sale"
   ]
  },
  {
   "cell_type": "code",
   "execution_count": null,
   "id": "18a0bd3a",
   "metadata": {},
   "outputs": [],
   "source": [
    "plt.figure(figsize=(5,4))\n",
    "ax = sns.barplot(x=\"Day_Name\", y=\"InvoiceNo\", data =daily_sale )\n",
    "plt.xticks(rotation=45)\n",
    "for label in ax.containers:\n",
    "    ax.bar_label(label)\n",
    "plt.show()"
   ]
  },
  {
   "cell_type": "markdown",
   "id": "feb19291",
   "metadata": {},
   "source": [
    "- We can see that, on ThrusDay there is somewhat more sale as compare to other Days\n",
    "- Interesting fact is that there were not any transaction on Saturday during the whole period. One of the explanations colud be some filter during the data collection process. Number of buyings are not significantly differ according to the day of the week."
   ]
  },
  {
   "cell_type": "markdown",
   "id": "8845fc5b",
   "metadata": {},
   "source": [
    "**Orders per hour**"
   ]
  },
  {
   "cell_type": "code",
   "execution_count": null,
   "id": "e8d1ff53",
   "metadata": {},
   "outputs": [],
   "source": [
    "hourly_sale = df.groupby(['Hour'])['InvoiceNo'].count().reset_index()\n",
    "hourly_sale"
   ]
  },
  {
   "cell_type": "code",
   "execution_count": null,
   "id": "86f159df",
   "metadata": {},
   "outputs": [],
   "source": [
    "ax = sns.barplot(x=\"Hour\", y= 'InvoiceNo', data =hourly_sale )\n",
    "plt.title('Hourly Sale')\n",
    "for label in ax.containers:\n",
    "    ax.bar_label(label)\n",
    "plt.show()"
   ]
  },
  {
   "cell_type": "markdown",
   "id": "096814b1",
   "metadata": {},
   "source": [
    "- The most number of transactions is done between 12 a.m. and 2 p.m., There aren't any transactions after 8 p.m. till 6 a.m."
   ]
  },
  {
   "cell_type": "code",
   "execution_count": null,
   "id": "267dbe26",
   "metadata": {},
   "outputs": [],
   "source": [
    "### Statisticals Summary of UnitPrice\n",
    "df['UnitPrice'].describe().round(2)"
   ]
  },
  {
   "cell_type": "markdown",
   "id": "81642f3c",
   "metadata": {},
   "source": [
    "- From the descriptive statistics for UnitPrice variable, we could see that most ot the sold products are price are quite cheap.\n",
    "- Now lets see the UnitPrice of products with Description, which unit price is more than 50."
   ]
  },
  {
   "cell_type": "code",
   "execution_count": null,
   "id": "968f4b27",
   "metadata": {},
   "outputs": [],
   "source": [
    "df[df['UnitPrice']>100]['Description'].unique()"
   ]
  },
  {
   "cell_type": "code",
   "execution_count": null,
   "id": "78bf36c5",
   "metadata": {},
   "outputs": [],
   "source": [
    "df[df['UnitPrice']>1000]['Description'].unique()"
   ]
  },
  {
   "cell_type": "markdown",
   "id": "b89684de",
   "metadata": {},
   "source": [
    "- 3 products which Unitprice is more than 1000."
   ]
  },
  {
   "cell_type": "code",
   "execution_count": null,
   "id": "578b5eb5",
   "metadata": {},
   "outputs": [],
   "source": [
    "df[df['UnitPrice']>5000]['Description'].unique()"
   ]
  },
  {
   "cell_type": "markdown",
   "id": "19426449",
   "metadata": {},
   "source": [
    "- There are only one product named 'postage' which is more costly."
   ]
  },
  {
   "cell_type": "code",
   "execution_count": null,
   "id": "5f49a4ef",
   "metadata": {},
   "outputs": [],
   "source": [
    "plt.figure(figsize=(4,3))\n",
    "sns.distplot(df[df['UnitPrice']>50]['UnitPrice'], kde=True)\n",
    "plt.show()"
   ]
  },
  {
   "cell_type": "code",
   "execution_count": null,
   "id": "121579f2",
   "metadata": {},
   "outputs": [],
   "source": [
    "plt.figure(figsize=(4,3))\n",
    "sns.distplot(df[df['UnitPrice']>500]['UnitPrice'], kde=True)\n",
    "plt.show()"
   ]
  },
  {
   "cell_type": "code",
   "execution_count": null,
   "id": "902ef2b2",
   "metadata": {},
   "outputs": [],
   "source": [
    "df['Country'].unique()"
   ]
  },
  {
   "cell_type": "code",
   "execution_count": null,
   "id": "6c0acc33",
   "metadata": {},
   "outputs": [],
   "source": [
    "print(\"Transactions were generated in\", len(df['Country'].unique()), \"different countries\")"
   ]
  },
  {
   "cell_type": "code",
   "execution_count": null,
   "id": "1948be44",
   "metadata": {},
   "outputs": [],
   "source": [
    "df[df['Country']=='Unspecified'].count()[6]"
   ]
  },
  {
   "cell_type": "code",
   "execution_count": null,
   "id": "1f8bffea",
   "metadata": {},
   "outputs": [],
   "source": [
    "print(\"Number of transactions where country is unspecified:\", len(df[df['Country']=='Unspecified']))"
   ]
  },
  {
   "cell_type": "markdown",
   "id": "7177c433",
   "metadata": {},
   "source": [
    "###  Adding new attributes.\n",
    "- RFM (Recency, Frequency, Monetary) analysis is a customer segmentation technique that uses past purchase behavior to divide customers into groups. RFM helps divide customers into various categories or clusters to identify customers who are more likely to respond to promotions and also for future personalization services.\n",
    "\n",
    "- **Recency(R)**: Days since last purchase\n",
    "- **Frequency(F)**: Total number of purchases\n",
    "- **Monetory value(M)**: Total money, customer spent."
   ]
  },
  {
   "cell_type": "code",
   "execution_count": null,
   "id": "29f1040e",
   "metadata": {},
   "outputs": [],
   "source": [
    "## Calculating Monetary(Amount_Spent)\n",
    "rfm_m = df.groupby('CustomerID')['Amount_Spent'].sum().reset_index().rename(columns={'Amount_Spent':'Amount'})\n",
    "rfm_m.head()"
   ]
  },
  {
   "cell_type": "code",
   "execution_count": null,
   "id": "68d6a882",
   "metadata": {},
   "outputs": [],
   "source": [
    "## Calculating Frequency.\n",
    "rfm_f = df.groupby('CustomerID')['InvoiceNo'].count().reset_index().rename(columns= {'InvoiceNo':'Frequency'})\n",
    "rfm_f.head()"
   ]
  },
  {
   "cell_type": "code",
   "execution_count": null,
   "id": "9e7b6801",
   "metadata": {},
   "outputs": [],
   "source": [
    "rfm = pd.merge(rfm_m, rfm_f, on='CustomerID', how='inner')\n",
    "rfm.head()"
   ]
  },
  {
   "cell_type": "code",
   "execution_count": null,
   "id": "b7ba47eb",
   "metadata": {},
   "outputs": [],
   "source": [
    "# Compute the maximum date to know the last transaction date\n",
    "max_date = max(df['InvoiceDate'])\n",
    "\n",
    "# Compute the difference between max date and transaction date\n",
    "df['Diff'] = max_date - df['InvoiceDate']\n",
    "\n",
    "# Compute last transaction date to get the recency of customers\n",
    "rfm_p = df.groupby('CustomerID')['Diff'].min().reset_index()\n",
    "\n",
    "## Extract number of days only\n",
    "rfm_p['Diff'] = rfm_p['Diff'].dt.days \n",
    "\n",
    "rfm = pd.merge(rfm, rfm_p, on='CustomerID', how='inner')"
   ]
  },
  {
   "cell_type": "code",
   "execution_count": null,
   "id": "d845a9e6",
   "metadata": {},
   "outputs": [],
   "source": [
    "rfm = rfm.rename(columns={'Diff':'Recency'})\n",
    "rfm.head()"
   ]
  },
  {
   "cell_type": "code",
   "execution_count": null,
   "id": "19d450aa",
   "metadata": {},
   "outputs": [],
   "source": [
    "rfm.describe()"
   ]
  },
  {
   "cell_type": "code",
   "execution_count": null,
   "id": "e05a3a3a",
   "metadata": {},
   "outputs": [],
   "source": [
    "sns.heatmap(rfm.corr(), annot=True)"
   ]
  },
  {
   "cell_type": "markdown",
   "id": "5b71dfc7",
   "metadata": {},
   "source": [
    "- There is a negative correlation between Recency-Frequency and Recency-Monetary, but there is a positive correlation between Frequency-Monetary.Low value of recency means less recent transactions while high frequency means more frequent transactions and high Monetary value means high spending on transactions."
   ]
  },
  {
   "cell_type": "code",
   "execution_count": null,
   "id": "c5407c79",
   "metadata": {},
   "outputs": [],
   "source": [
    "# Outlier Analysis of Amount, Frequency and Recency\n",
    "\n",
    "features = ['Amount','Frequency','Recency']\n",
    "plt.figure(figsize=(5,4))\n",
    "sns.boxplot(data = rfm[features])\n",
    "plt.title(\"Outliers  Distribution\")\n",
    "plt.show()"
   ]
  },
  {
   "cell_type": "code",
   "execution_count": null,
   "id": "f006934d",
   "metadata": {},
   "outputs": [],
   "source": [
    "plt.figure(figsize=(10,4))\n",
    "plt.subplot(1,3,1)\n",
    "sns.distplot( rfm['Amount'], kde=True)\n",
    "\n",
    "plt.subplot(1,3,2)\n",
    "sns.distplot( rfm['Frequency'], kde=True)\n",
    "\n",
    "plt.subplot(1,3,3)\n",
    "sns.distplot( rfm['Recency'], kde=True)\n",
    "plt.show()"
   ]
  },
  {
   "cell_type": "code",
   "execution_count": null,
   "id": "9ce88627",
   "metadata": {},
   "outputs": [],
   "source": [
    "print(rfm['Amount'].skew() )\n",
    "print(rfm['Frequency'].skew())\n",
    "print(rfm['Recency'].skew())"
   ]
  },
  {
   "cell_type": "code",
   "execution_count": null,
   "id": "e8bcb3a8",
   "metadata": {},
   "outputs": [],
   "source": [
    "rfm['Amount'] = np.log(rfm['Amount'] + 0.01)\n",
    "rfm['Frequency'] = np.log(rfm['Frequency'] + 0.01)\n",
    "rfm['Recency'] = np.log(rfm['Recency'] + 0.01)"
   ]
  },
  {
   "cell_type": "code",
   "execution_count": null,
   "id": "346ebb2e",
   "metadata": {},
   "outputs": [],
   "source": [
    "print(a.skew())\n",
    "print(b.skew())\n",
    "print(c.skew())"
   ]
  },
  {
   "cell_type": "code",
   "execution_count": null,
   "id": "705069fa",
   "metadata": {},
   "outputs": [],
   "source": [
    "plt.figure(figsize=(10,4))\n",
    "plt.subplot(1,3,1)\n",
    "sns.distplot( rfm['Amount'], kde=True)\n",
    "\n",
    "plt.subplot(1,3,2)\n",
    "sns.distplot( rfm['Frequency'], kde=True)\n",
    "\n",
    "plt.subplot(1,3,3)\n",
    "sns.distplot( rfm['Recency'], kde=True)\n",
    "plt.show()"
   ]
  },
  {
   "cell_type": "code",
   "execution_count": null,
   "id": "1f648e58",
   "metadata": {},
   "outputs": [],
   "source": [
    "print(rfm['Amount'].skew() )\n",
    "print(rfm['Frequency'].skew())\n",
    "print(rfm['Recency'].skew())"
   ]
  },
  {
   "cell_type": "code",
   "execution_count": null,
   "id": "4870494f",
   "metadata": {},
   "outputs": [],
   "source": [
    "rfm.head()"
   ]
  },
  {
   "cell_type": "code",
   "execution_count": null,
   "id": "66834ef3",
   "metadata": {},
   "outputs": [],
   "source": [
    "X = rfm.iloc[:, 1:]"
   ]
  },
  {
   "cell_type": "code",
   "execution_count": null,
   "id": "91b63559",
   "metadata": {},
   "outputs": [],
   "source": [
    "X.head()"
   ]
  },
  {
   "cell_type": "code",
   "execution_count": null,
   "id": "ba5dd999",
   "metadata": {},
   "outputs": [],
   "source": [
    "from sklearn.preprocessing import StandardScaler\n",
    "sc = StandardScaler()\n",
    "X = sc.fit_transform(X)"
   ]
  },
  {
   "cell_type": "markdown",
   "id": "31d4b8a0",
   "metadata": {},
   "source": [
    "### Modelling(K-Means Clutering)"
   ]
  },
  {
   "cell_type": "markdown",
   "id": "6938e284",
   "metadata": {},
   "source": [
    "**Elbow Curve**\n",
    "\n",
    "- **Find the optimal number of cluster.**"
   ]
  },
  {
   "cell_type": "code",
   "execution_count": null,
   "id": "94f29326",
   "metadata": {},
   "outputs": [],
   "source": [
    "from sklearn.cluster import KMeans\n",
    "\n",
    "wcss = []\n",
    "for k in range(1,7):\n",
    "    k_model = KMeans(n_clusters = k, init = 'k-means++',random_state=0)\n",
    "    k_model.fit(X)\n",
    "    wcss.append(k_model.inertia_)\n",
    "print(wcss)"
   ]
  },
  {
   "cell_type": "code",
   "execution_count": null,
   "id": "7da7c903",
   "metadata": {},
   "outputs": [],
   "source": [
    "plt.plot(range(1,7),wcss, '-o')\n",
    "plt.xticks(range(1,7))\n",
    "plt.title('The Elbow Method')\n",
    "plt.xlabel('Number of clusters')\n",
    "plt.ylabel('WCSS')\n",
    "plt.show()"
   ]
  },
  {
   "cell_type": "markdown",
   "id": "29637407",
   "metadata": {},
   "source": [
    "- Optimal number of clusters is 3."
   ]
  },
  {
   "cell_type": "markdown",
   "id": "a8b82446",
   "metadata": {},
   "source": [
    "### K-Means Model"
   ]
  },
  {
   "cell_type": "code",
   "execution_count": null,
   "id": "885acaea",
   "metadata": {},
   "outputs": [],
   "source": [
    "#Modelling\n",
    "kmeans = KMeans(n_clusters = 3, init = 'k-means++', random_state=0)\n",
    "\n",
    "#Predict\n",
    "y_kmeans = kmeans.fit_predict(X)\n",
    "print(y_kmeans)"
   ]
  },
  {
   "cell_type": "code",
   "execution_count": null,
   "id": "f7ccb928",
   "metadata": {},
   "outputs": [],
   "source": [
    "rfm['cluster'] = pd.DataFrame(y_kmeans)\n",
    "rfm.head()"
   ]
  },
  {
   "cell_type": "code",
   "execution_count": null,
   "id": "0d55d9af",
   "metadata": {},
   "outputs": [],
   "source": [
    "rfm[rfm['cluster']==1]"
   ]
  },
  {
   "cell_type": "code",
   "execution_count": null,
   "id": "2110c7b8",
   "metadata": {},
   "outputs": [],
   "source": [
    "rfm['cluster'].value_counts(normalize=True)"
   ]
  },
  {
   "cell_type": "code",
   "execution_count": null,
   "id": "51d067f8",
   "metadata": {},
   "outputs": [],
   "source": [
    "# get centroids\n",
    "centroids = kmeans.cluster_centers_\n",
    "cen_x = [i[0] for i in centroids] \n",
    "cen_y = [i[1] for i in centroids]\n",
    "\n",
    "## add to dataframe\n",
    "rfm['cen_x'] = rfm.cluster.map({0:cen_x[0], 1:cen_x[1], 2:cen_x[2]})\n",
    "rfm['cen_y'] = rfm.cluster.map({0:cen_y[0], 1:cen_y[1], 2:cen_y[2]})\n",
    "\n",
    "# define and map colors\n",
    "colors = ['#DF2020', '#81DF20', '#2095DF']\n",
    "rfm['c'] = rfm.cluster.map({0:colors[0], 1:colors[1], 2:colors[2]})\n",
    "\n",
    "# Plot clusters\n",
    "plt.figure(figsize=(12,5))\n",
    "plt.scatter(rfm.Frequency, rfm.Amount, c=rfm.cluster, alpha = 0.6, s=25)\n",
    "plt.xlabel('Frequency', fontsize=15)\n",
    "plt.ylabel('Monetary', fontsize=15)"
   ]
  },
  {
   "cell_type": "code",
   "execution_count": null,
   "id": "70920606",
   "metadata": {},
   "outputs": [],
   "source": [
    "customer_seg = rfm['cluster'].value_counts().index\n",
    "customer_val = rfm['cluster'].value_counts().values\n",
    "\n",
    "plt.pie(customer_val, labels = ['High valued customer','Average valued customer','Low valued customer'], autopct = '%1.2f%%')\n",
    "plt.show()"
   ]
  },
  {
   "cell_type": "markdown",
   "id": "06196a40",
   "metadata": {},
   "source": [
    "This plot clearly indicates that green cluster is high value customer cohort (Cluster 0) and blue cluster is Lost/low value customer cohort (Cluster 1) while yellow cluster is average value customer cohort (Cluster 2)\n",
    "High Value :- Frequent spending customers with high monetary transactions and had transacted recently\n",
    "\n",
    "Low Value/ Lost :- Customers with least frequency and monetary spending and made purchase long time ago.\n",
    "\n",
    "Average Value :- Customers who made their transactions some time ago with less frequency and monetary value. "
   ]
  }
 ],
 "metadata": {
  "kernelspec": {
   "display_name": "Python 3 (ipykernel)",
   "language": "python",
   "name": "python3"
  },
  "language_info": {
   "codemirror_mode": {
    "name": "ipython",
    "version": 3
   },
   "file_extension": ".py",
   "mimetype": "text/x-python",
   "name": "python",
   "nbconvert_exporter": "python",
   "pygments_lexer": "ipython3",
   "version": "3.9.13"
  }
 },
 "nbformat": 4,
 "nbformat_minor": 5
}
